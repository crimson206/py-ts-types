{
 "cells": [
  {
   "cell_type": "code",
   "execution_count": 1,
   "metadata": {},
   "outputs": [
    {
     "name": "stdout",
     "output_type": "stream",
     "text": [
      "class ButtonProps(BaseModel):\n",
      "    \"\"\"\n",
      "    Model Description\n",
      "    with Multi Lines\n",
      "    \"\"\"\n",
      "\n",
      "    label: str = Field(description=\"Label Description\")\n",
      "    variant: Literal[\"primary\", \"secondary\", \"danger\"] = Field(\n",
      "        default=\"primary\",\n",
      "        description=dedent(\"\"\"\n",
      "            Variant Description.\n",
      "            This is multiline.\n",
      "            It is indented, but covered by `textwrap.detent`\n",
      "            \"\"\")\n",
      "    )\n",
      "    disabled: Optional[bool] = None\n",
      "    clickCount: Optional[int] = None\n",
      "\n"
     ]
    }
   ],
   "source": [
    "from typing import *\n",
    "from crimson.ast_dev_tool import *\n",
    "from crimson.py_ts_types_beta.convert_pydantic.positive import *\n",
    "from script import ButtonProps\n",
    "import inspect\n",
    "\n",
    "print(inspect.getsource(ButtonProps))\n"
   ]
  },
  {
   "cell_type": "code",
   "execution_count": 2,
   "metadata": {},
   "outputs": [
    {
     "data": {
      "text/plain": [
       "{'label': {'annotation': 'str',\n",
       "  'required': 'True',\n",
       "  'description': \"'Label Description'\"},\n",
       " 'variant': {'annotation': \"Literal['primary', 'secondary', 'danger']\",\n",
       "  'required': 'False',\n",
       "  'default': \"'primary'\",\n",
       "  'description': \"'\\\\nVariant Description.\\\\nThis is multiline.\\\\nIt is indented, but covered by `textwrap.detent`\\\\n'\"},\n",
       " 'disabled': {'annotation': 'Union[bool, NoneType]',\n",
       "  'required': 'False',\n",
       "  'default': 'None'},\n",
       " 'clickCount': {'annotation': 'Union[int, NoneType]',\n",
       "  'required': 'False',\n",
       "  'default': 'None'}}"
      ]
     },
     "execution_count": 2,
     "metadata": {},
     "output_type": "execute_result"
    }
   ],
   "source": [
    "get_string_fields(ButtonProps.model_fields)"
   ]
  },
  {
   "cell_type": "code",
   "execution_count": 3,
   "metadata": {},
   "outputs": [],
   "source": [
    "code = \"\"\"\n",
    "class ButtonProps(BaseModel):\n",
    "    label: str\n",
    "    variant: Literal['primary', 'secondary', 'danger'] = 'primary'\n",
    "    disabled: Optional[bool]\n",
    "    clickCount: Optional[int]\n",
    "\n",
    "\"\"\"\n"
   ]
  },
  {
   "cell_type": "code",
   "execution_count": 4,
   "metadata": {},
   "outputs": [
    {
     "data": {
      "text/plain": [
       "'\\n    Model Description\\n    with Multi Lines\\n    '"
      ]
     },
     "execution_count": 4,
     "metadata": {},
     "output_type": "execute_result"
    }
   ],
   "source": [
    "ButtonProps.__doc__"
   ]
  },
  {
   "cell_type": "code",
   "execution_count": 5,
   "metadata": {},
   "outputs": [
    {
     "name": "stdout",
     "output_type": "stream",
     "text": [
      "/**\n",
      " * Model Description\n",
      " * with Multi Lines\n",
      " */\n",
      "interface ButtonProps {\n",
      "    /**\n",
      "     * Label Description\n",
      "     */\n",
      "    label:str\n",
      "    /**\n",
      "     * Variant Description.\n",
      "     * This is multiline.\n",
      "     * It is indented, but covered by `textwrap.detent`\n",
      "     */\n",
      "    variant?:Literal<'primary'|'secondary'|'danger'>\n",
      "    disabled?:Optional<bool>\n",
      "    clickCount?:Optional<int>\n",
      "}\n"
     ]
    }
   ],
   "source": [
    "print(generate_interface(ButtonProps))"
   ]
  },
  {
   "cell_type": "code",
   "execution_count": 6,
   "metadata": {},
   "outputs": [
    {
     "name": "stdout",
     "output_type": "stream",
     "text": [
      "const defaultButtonProps: ButtonProps {\n",
      "    variant = 'primary'\n",
      "    disabled = None\n",
      "    clickCount = None\n",
      "}\n"
     ]
    }
   ],
   "source": [
    "print(generate_default(ButtonProps))"
   ]
  },
  {
   "cell_type": "markdown",
   "metadata": {},
   "source": [
    "``` ts \n",
    "/**\n",
    " * Model Description\n",
    " * with Multi Lines\n",
    " */\n",
    "interface ButtonProps {\n",
    "    /**\n",
    "     * Label Description\n",
    "     */\n",
    "    label:str\n",
    "    /**\n",
    "     * Variant Description.\n",
    "     * This is multiline.\n",
    "     * It is indented, but covered by `textwrap.detent`\n",
    "     */\n",
    "    variant?:Literal<'primary'|'secondary'|'danger'>\n",
    "    disabled?:Optional<bool>\n",
    "    clickCount?:Optional<int>\n",
    "}\n",
    "```"
   ]
  }
 ],
 "metadata": {
  "kernelspec": {
   "display_name": "py-ts-types-beta",
   "language": "python",
   "name": "python3"
  },
  "language_info": {
   "codemirror_mode": {
    "name": "ipython",
    "version": 3
   },
   "file_extension": ".py",
   "mimetype": "text/x-python",
   "name": "python",
   "nbconvert_exporter": "python",
   "pygments_lexer": "ipython3",
   "version": "3.12.7"
  }
 },
 "nbformat": 4,
 "nbformat_minor": 2
}
