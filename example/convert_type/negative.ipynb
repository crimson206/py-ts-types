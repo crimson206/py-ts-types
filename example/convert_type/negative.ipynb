{
 "cells": [
  {
   "cell_type": "markdown",
   "metadata": {},
   "source": [
    "# Negative Conversion\n",
    "\n",
    "While positive conversion (Python to TypeScript) can leverage Python's `ast` module for relatively easy parsing, negative conversion (TypeScript to Python) cannot use the same approach.\n",
    "\n",
    "We'll implement the TypeScript to Python conversion within Python without relying on a TypeScript parser."
   ]
  },
  {
   "cell_type": "markdown",
   "metadata": {},
   "source": [
    "## String Tokenization\n",
    "\n",
    "In positive conversion, `ast.parse` automatically handles strings within annotations, treating brackets like `[` or `<` inside strings as non-problematic. For negative conversion, we need to manually tokenize these strings first.\n"
   ]
  },
  {
   "cell_type": "code",
   "execution_count": 1,
   "metadata": {},
   "outputs": [
    {
     "name": "stdout",
     "output_type": "stream",
     "text": [
      "Union<int|List<int>|Union<Tuple<[Dict<str,Dict<str,int>>,Literal<text0|2|text1>]>|int>>\n",
      "['[bye>', '[hi]']\n",
      "[\"'\", \"'\"]\n"
     ]
    }
   ],
   "source": [
    "from typing import Dict\n",
    "from crimson.py_ts_types_beta.convert_typing.negative import tokenize_and_extract_strings, convert_unit_node, convert_first_unitnode\n",
    "\n",
    "ts_annotation = \"Union<int|List<int>|Union<Tuple<[Dict<str,Dict<str,int>>,Literal<'[bye>'|2|'[hi]'>]>|int>>\"\n",
    "\n",
    "processed, extracted_strings, used_quotes = tokenize_and_extract_strings(ts_annotation)\n",
    "\n",
    "print(processed)\n",
    "print(extracted_strings)\n",
    "print(used_quotes)"
   ]
  },
  {
   "cell_type": "markdown",
   "metadata": {},
   "source": [
    "The `processed` string now has tokenized strings, making it safer to manipulate.\n",
    "\n",
    "## Unit Node Conversion\n",
    "\n",
    "The `convert_unit_node` function safely converts annotations without nested elements:"
   ]
  },
  {
   "cell_type": "code",
   "execution_count": 2,
   "metadata": {},
   "outputs": [
    {
     "name": "stdout",
     "output_type": "stream",
     "text": [
      "Dict[str,int]\n"
     ]
    }
   ],
   "source": [
    "print(convert_unit_node('Dict', 'Dict<str,int>'))"
   ]
  },
  {
   "cell_type": "markdown",
   "metadata": {},
   "source": [
    "## First Unit Node Conversion\n",
    "\n",
    "`convert_first_unitnode` converts the first unit node in the current annotation:"
   ]
  },
  {
   "cell_type": "code",
   "execution_count": 3,
   "metadata": {},
   "outputs": [
    {
     "name": "stdout",
     "output_type": "stream",
     "text": [
      "Dict<str,Dict[str,int]>\n",
      "Dict[str,Dict[str,int]]\n"
     ]
    }
   ],
   "source": [
    "print(convert_first_unitnode('Dict<str,Dict<str,int>>'))\n",
    "print(convert_first_unitnode('Dict<str,Dict[str,int]>'))"
   ]
  },
  {
   "cell_type": "markdown",
   "metadata": {},
   "source": [
    "## Complete Conversion Process\n",
    "\n",
    "The negative conversion process involves:\n",
    "1. Repeatedly applying `convert_first_unitnode` until no further conversions are needed.\n",
    "2. Restoring the tokenized strings to their original form.\n",
    "\n",
    "This approach allows for safe and accurate conversion of TypeScript annotations back to Python format."
   ]
  }
 ],
 "metadata": {
  "kernelspec": {
   "display_name": "py-ts-types-beta",
   "language": "python",
   "name": "python3"
  },
  "language_info": {
   "codemirror_mode": {
    "name": "ipython",
    "version": 3
   },
   "file_extension": ".py",
   "mimetype": "text/x-python",
   "name": "python",
   "nbconvert_exporter": "python",
   "pygments_lexer": "ipython3",
   "version": "3.12.7"
  }
 },
 "nbformat": 4,
 "nbformat_minor": 2
}
