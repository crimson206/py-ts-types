{
 "cells": [
  {
   "cell_type": "markdown",
   "metadata": {},
   "source": [
    "# Positive Conversion\n"
   ]
  },
  {
   "cell_type": "markdown",
   "metadata": {},
   "source": [
    "## Introduction\n",
    "\n",
    "Positive conversion, or Python to TypeScript conversion, primarily involves transforming types that use `[` and `]` brackets. In Python's Abstract Syntax Tree (AST), these are known as `ast.Subscript` nodes.\n",
    "\n",
    "If you're interested in the details, you can explore the `ast` module further on your own."
   ]
  },
  {
   "cell_type": "markdown",
   "metadata": {},
   "source": [
    "## Setup"
   ]
  },
  {
   "cell_type": "code",
   "execution_count": 5,
   "metadata": {},
   "outputs": [],
   "source": [
    "from typing import Union, List, Dict, Tuple, Literal\n",
    "from crimson.ast_dev_tool import collect_nodes\n",
    "from crimson.py_ts_types_beta.convert_typing.positive import SubscribeNode, convert_unit\n",
    "\n",
    "# Example Python annotation\n",
    "py_annotation = \"Union[int,List[int],Union[Tuple[Dict[str,Dict[str,int]],Literal['[bye>',2,'[hi]']],int]]\""
   ]
  },
  {
   "cell_type": "markdown",
   "metadata": {},
   "source": [
    "## Converting Unit Nodes\n",
    "\n",
    "The `convert_unit` function transforms the first `ast.Subscript` node it encounters:\n"
   ]
  },
  {
   "cell_type": "code",
   "execution_count": 6,
   "metadata": {},
   "outputs": [
    {
     "name": "stdout",
     "output_type": "stream",
     "text": [
      "['Union<', 'int', '|', 'List[int]', '|', \"Union[Tuple[Dict[str, Dict[str, int]], Literal['[bye>', 2, '[hi]']], int]\", '>']\n"
     ]
    }
   ],
   "source": [
    "converted = convert_unit(py_annotation)\n",
    "print(converted)"
   ]
  },
  {
   "cell_type": "markdown",
   "metadata": {},
   "source": [
    "After this initial conversion, some elements still require conversion:"
   ]
  },
  {
   "cell_type": "code",
   "execution_count": 7,
   "metadata": {},
   "outputs": [
    {
     "data": {
      "text/plain": [
       "['List[int]',\n",
       " \"Union[Tuple[Dict[str, Dict[str, int]], Literal['[bye>', 2, '[hi]']], int]\"]"
      ]
     },
     "execution_count": 7,
     "metadata": {},
     "output_type": "execute_result"
    }
   ],
   "source": [
    "[\n",
    "    # 'Union<',\n",
    "    # 'int',\n",
    "    # '|',\n",
    "    'List[int]',\n",
    "    # '|',\n",
    "    \"Union[Tuple[Dict[str, Dict[str, int]], Literal['[bye>', 2, '[hi]']], int]\",\n",
    "    # '>'\n",
    "]"
   ]
  },
  {
   "cell_type": "markdown",
   "metadata": {},
   "source": [
    "## Recursive Conversion\n",
    "\n",
    "The `converted` result is stored in a child node. The parent node then calls the `generate_children` function on its children. This process continues recursively until all elements are fully converted."
   ]
  },
  {
   "cell_type": "markdown",
   "metadata": {},
   "source": [
    "## Generating the Final Result\n",
    "\n",
    "The `to_string` method of a node produces the converted annotation by joining the `converted` elements. Elements identified as `ast.Subscript` are replaced by their children's `to_string` results."
   ]
  },
  {
   "cell_type": "code",
   "execution_count": 8,
   "metadata": {},
   "outputs": [
    {
     "name": "stdout",
     "output_type": "stream",
     "text": [
      "List<int>\n",
      "Union<Tuple<[Dict<str,Dict<str,int>>,Literal<'[bye>'|2|'[hi]'>]>|int>\n",
      "Union<int|List<int>|Union<Tuple<[Dict<str,Dict<str,int>>,Literal<'[bye>'|2|'[hi]'>]>|int>>\n"
     ]
    }
   ],
   "source": [
    "root = SubscribeNode(converted=[py_annotation])\n",
    "root.generate_children()\n",
    "\n",
    "list_node = root.children[0].children[0]\n",
    "union_node = root.children[0].children[1]\n",
    "\n",
    "print(list_node.to_string())\n",
    "print(union_node.to_string())\n",
    "print(root.to_string())"
   ]
  },
  {
   "cell_type": "markdown",
   "metadata": {},
   "source": [
    "This process results in a fully converted TypeScript type annotation.\n"
   ]
  },
  {
   "cell_type": "markdown",
   "metadata": {},
   "source": [
    "## Conclusion\n",
    "\n",
    "The positive conversion process leverages Python's AST to systematically transform Python type annotations into their TypeScript equivalents. By recursively processing nested type structures, it handles complex type definitions accurately and efficiently.\n"
   ]
  }
 ],
 "metadata": {
  "kernelspec": {
   "display_name": "py-ts-types-beta",
   "language": "python",
   "name": "python3"
  },
  "language_info": {
   "codemirror_mode": {
    "name": "ipython",
    "version": 3
   },
   "file_extension": ".py",
   "mimetype": "text/x-python",
   "name": "python",
   "nbconvert_exporter": "python",
   "pygments_lexer": "ipython3",
   "version": "3.12.7"
  }
 },
 "nbformat": 4,
 "nbformat_minor": 2
}
