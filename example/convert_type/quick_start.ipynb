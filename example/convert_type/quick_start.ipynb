{
 "cells": [
  {
   "cell_type": "markdown",
   "metadata": {},
   "source": [
    "# Quick Start Guide: Python-TypeScript Type Conversion\n"
   ]
  },
  {
   "cell_type": "markdown",
   "metadata": {},
   "source": [
    "## Setup\n"
   ]
  },
  {
   "cell_type": "code",
   "execution_count": null,
   "metadata": {},
   "outputs": [],
   "source": [
    "from typing import Union, List, Dict, Tuple, Literal\n",
    "from crimson.py_ts_types_beta.convert_typing.positive import SubscribeNode\n",
    "from crimson.py_ts_types_beta.convert_typing.negative import convert_final\n",
    "from crimson.py_ts_types_beta.convert_typing import convert_py_to_ts, convert_ts_to_py"
   ]
  },
  {
   "cell_type": "markdown",
   "metadata": {},
   "source": [
    "## Python-TypeScript Type Mapping\n",
    "\n",
    "Here's how Python types are mapped to TypeScript:\n",
    "\n",
    "```typescript\n",
    "export type str = string\n",
    "export type int = number\n",
    "export type float = number\n",
    "export type bool = boolean\n",
    "export type None = null | undefined\n",
    "\n",
    "export type List<T> = Array<T>\n",
    "export type Dict<K extends keyof any = string, V = any> = {\n",
    "    [key in K extends string | number ? K : string]: V;\n",
    "}\n",
    "export type Tuple<T extends any[]> = T\n",
    "export type Union<T> = T\n",
    "export type Literal<T extends string | number | boolean> = T\n",
    "export type Optional<T> = T | undefined\n",
    "export type Any = any\n",
    "export type Callable<T extends any[], R> = (...args: T) => R\n",
    "```\n"
   ]
  },
  {
   "cell_type": "markdown",
   "metadata": {},
   "source": [
    "## Positive Conversion (Python to TypeScript)\n",
    "\n",
    "Let's convert a complex Python type to TypeScript:"
   ]
  },
  {
   "cell_type": "code",
   "execution_count": 2,
   "metadata": {},
   "outputs": [
    {
     "name": "stdout",
     "output_type": "stream",
     "text": [
      "Union<int|List<int>|Union<Tuple<[Dict<str,Dict<str,int>>,Literal<'[bye>'|2|'[hi]'>]>|int>>\n",
      "Union<int|List<int>|Union<Tuple<[Dict<str,Dict<str,int>>,Literal<'[bye>'|2|'[hi]'>]>|int>>\n"
     ]
    }
   ],
   "source": [
    "py_annotation = \"Union[int,List[int],Union[Tuple[Dict[str,Dict[str,int]],Literal['[bye>',2,'[hi]']],int]]\"\n",
    "\n",
    "# Method 1: Using SubscribeNode\n",
    "root = SubscribeNode(converted=[py_annotation])\n",
    "root.generate_children()\n",
    "ts_annotation = root.to_string()\n",
    "print(ts_annotation)\n",
    "\n",
    "# Method 2: Using convert_py_to_ts shortcut\n",
    "ts_annotation_shortcut = convert_py_to_ts(py_annotation)\n",
    "print(ts_annotation_shortcut)"
   ]
  },
  {
   "cell_type": "markdown",
   "metadata": {},
   "source": [
    "Both methods produce the same result:\n",
    "\n",
    "```typescript\n",
    "Union<int|List<int>|Union<Tuple<[Dict<str,Dict<str,int>>,Literal<'[bye>'|2|'[hi]'>]>|int>>\n",
    "```"
   ]
  },
  {
   "cell_type": "markdown",
   "metadata": {},
   "source": [
    "## Negative Conversion (TypeScript to Python)\n",
    "\n",
    "For TypeScript to Python conversion, we use the `convert_final` function:\n"
   ]
  },
  {
   "cell_type": "code",
   "execution_count": 3,
   "metadata": {},
   "outputs": [
    {
     "name": "stdout",
     "output_type": "stream",
     "text": [
      "Union[int,List[int],Union[Tuple[Dict[str,Dict[str,int]],Literal['[bye>',2,'[hi]']],int]]\n",
      "Union[int,List[int],Union[Tuple[Dict[str,Dict[str,int]],Literal['[bye>',2,'[hi]']],int]]\n"
     ]
    }
   ],
   "source": [
    "py_annotation_recovered = convert_ts_to_py(ts_annotation)\n",
    "print(py_annotation_recovered)\n",
    "\n",
    "# Alternatively, you can use convert_final directly\n",
    "py_annotation_recovered_alt = convert_final(ts_annotation)\n",
    "print(py_annotation_recovered_alt)"
   ]
  },
  {
   "cell_type": "markdown",
   "metadata": {},
   "source": [
    "Both `convert_ts_to_py` and `convert_final` produce the same result:"
   ]
  },
  {
   "cell_type": "code",
   "execution_count": 4,
   "metadata": {},
   "outputs": [
    {
     "data": {
      "text/plain": [
       "typing.Union[int, typing.List[int], typing.Tuple[typing.Dict[str, typing.Dict[str, int]], typing.Literal['[bye>', 2, '[hi]']]]"
      ]
     },
     "execution_count": 4,
     "metadata": {},
     "output_type": "execute_result"
    }
   ],
   "source": [
    "Union[int,List[int],Union[Tuple[Dict[str,Dict[str,int]],Literal['[bye>',2,'[hi]']],int]]"
   ]
  },
  {
   "cell_type": "markdown",
   "metadata": {},
   "source": [
    "## Verification\n",
    "\n",
    "Let's verify that our conversion process is reversible:"
   ]
  },
  {
   "cell_type": "code",
   "execution_count": 5,
   "metadata": {},
   "outputs": [
    {
     "name": "stdout",
     "output_type": "stream",
     "text": [
      "True\n"
     ]
    }
   ],
   "source": [
    "print(py_annotation == py_annotation_recovered)  # Should print True"
   ]
  },
  {
   "cell_type": "markdown",
   "metadata": {},
   "source": [
    "## Conclusion\n",
    "\n",
    "This quick start guide demonstrates how to convert complex type annotations between Python and TypeScript. The conversion process is bi-directional and preserves the structure of nested types, including edge cases with special characters in string literals."
   ]
  }
 ],
 "metadata": {
  "kernelspec": {
   "display_name": "py-ts-types-beta",
   "language": "python",
   "name": "python3"
  },
  "language_info": {
   "codemirror_mode": {
    "name": "ipython",
    "version": 3
   },
   "file_extension": ".py",
   "mimetype": "text/x-python",
   "name": "python",
   "nbconvert_exporter": "python",
   "pygments_lexer": "ipython3",
   "version": "3.12.7"
  }
 },
 "nbformat": 4,
 "nbformat_minor": 2
}
