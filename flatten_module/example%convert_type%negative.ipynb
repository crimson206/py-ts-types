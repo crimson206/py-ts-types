{
 "cells": [
  {
   "cell_type": "markdown",
   "metadata": {},
   "source": [
    "## Negative Conversion\n",
    "\n",
    "우리는 이 작업을 python을 이용해 하고 있기 때문에, positive conversion의 경우, python의 `ast` 모듈을 이용해서 비교적 쉽게 할 수 있었다.\n",
    "\n",
    "하지만, converted된 typescript annotation의 경우, `ast` 모듈을 이용한 분석은 불가능해진다.\n",
    "\n",
    "이를 여전히 python 내에서 python annotation으로 convert 해보도록 한다."
   ]
  },
  {
   "cell_type": "code",
   "execution_count": 1,
   "metadata": {},
   "outputs": [],
   "source": [
    "from typing import Dict\n",
    "from crimson.py_ts_types_beta.convert_typing.negative import tokenize_and_extract_strings, convert_unit_node, convert_first_unitnode"
   ]
  },
  {
   "cell_type": "markdown",
   "metadata": {},
   "source": [
    "`ast.parse`를 쓰면, 저 annotation 안에 포함된 string들은 알아서 string으로 잘 분류되고, 그 안의 `[` 나 `<` 같은 요소들은 noise로 간주하지 않아도 된다.\n",
    "\n",
    "하지만 negative conversion에서는 parser의 도움을 받지 못 한다. 그래서 먼저 저 string들을 token처리 해야한다."
   ]
  },
  {
   "cell_type": "markdown",
   "metadata": {},
   "source": [
    "``` ts\n",
    "Union<int|List<int>|Union<Tuple<[Dict<str,Dict<str,int>>,Literal<'[bye>'|2|'[hi]'>]>|int>>\n",
    "```"
   ]
  },
  {
   "cell_type": "code",
   "execution_count": 2,
   "metadata": {},
   "outputs": [],
   "source": [
    "ts_annotation = \"Union<int|List<int>|Union<Tuple<[Dict<str,Dict<str,int>>,Literal<'[bye>'|2|'[hi]'>]>|int>>\""
   ]
  },
  {
   "cell_type": "code",
   "execution_count": 3,
   "metadata": {},
   "outputs": [
    {
     "data": {
      "text/plain": [
       "('Union<int|List<int>|Union<Tuple<[Dict<str,Dict<str,int>>,Literal<text0|2|text1>]>|int>>',\n",
       " ['[bye>', '[hi]'],\n",
       " [\"'\", \"'\"])"
      ]
     },
     "execution_count": 3,
     "metadata": {},
     "output_type": "execute_result"
    }
   ],
   "source": [
    "processed, extracted_strings, used_quotes = tokenize_and_extract_strings(ts_annotation)\n",
    "processed, extracted_strings, used_quotes "
   ]
  },
  {
   "cell_type": "markdown",
   "metadata": {},
   "source": [
    "`processed`:\n",
    "\n",
    "``` ts\n",
    "Union<int|List<int>|Union<Tuple<[Dict<str,Dict<str,int>>,Literal<text0|2|text1>]>|int>>\n",
    "```"
   ]
  },
  {
   "cell_type": "markdown",
   "metadata": {},
   "source": [
    "`tokenize_and_extract_strings` 사용 후, `processed`에 더 이상 string이 없는 것을 볼 수 있다. "
   ]
  },
  {
   "cell_type": "markdown",
   "metadata": {},
   "source": [
    "`processed`와 함께 생성된 `extracted_strings`, `used_quotes` 들은 이후 tokenized된 string들을 회복시킬 때 사용된다."
   ]
  },
  {
   "cell_type": "markdown",
   "metadata": {},
   "source": [
    "`convert_unit_node` 함수는 내부에 더 이상 convert 할 element가 없는 annotation(`unit_node`)을 안전하게 convert 한다. 예를들어,\n",
    "\n",
    "`Dict<str,int>` 를 잘 convert 할 수 있다.\n",
    "`Dict<str,Dict<str,int>>` 는 아마 문제가 생길 수 있다.\n"
   ]
  },
  {
   "cell_type": "code",
   "execution_count": 4,
   "metadata": {},
   "outputs": [
    {
     "data": {
      "text/plain": [
       "'Dict[str,int]'"
      ]
     },
     "execution_count": 4,
     "metadata": {},
     "output_type": "execute_result"
    }
   ],
   "source": [
    "convert_unit_node('Dict', 'Dict<str,int>')"
   ]
  },
  {
   "cell_type": "markdown",
   "metadata": {},
   "source": [
    "`convert_first_unitnode` 는 현재 annotation에서 처음 나오는 `unit_node`를 convert 한다."
   ]
  },
  {
   "cell_type": "code",
   "execution_count": 5,
   "metadata": {},
   "outputs": [
    {
     "data": {
      "text/plain": [
       "'Dict<str,Dict[str,int]>'"
      ]
     },
     "execution_count": 5,
     "metadata": {},
     "output_type": "execute_result"
    }
   ],
   "source": [
    "convert_first_unitnode('Dict<str,Dict<str,int>>')"
   ]
  },
  {
   "cell_type": "markdown",
   "metadata": {},
   "source": [
    "negative conversion에서는 `<` 와 `>`가 node 구성의 기본이 됨으로, conversion된 `Dict[str,int]` 부분은 더 이상 node로 취급되지 않는다.\n",
    "그래서 위와같이 한차례 convert된 string을 또 다시 convert하면, 이제는 전체 annotation이 하나의 unit_node임으로, 최종적인 converted annotation을 얻게 된다."
   ]
  },
  {
   "cell_type": "code",
   "execution_count": 6,
   "metadata": {},
   "outputs": [
    {
     "data": {
      "text/plain": [
       "'Dict[str,Dict[str,int]]'"
      ]
     },
     "execution_count": 6,
     "metadata": {},
     "output_type": "execute_result"
    }
   ],
   "source": [
    "convert_first_unitnode('Dict<str,Dict[str,int]>')"
   ]
  },
  {
   "cell_type": "code",
   "execution_count": 7,
   "metadata": {},
   "outputs": [
    {
     "data": {
      "text/plain": [
       "typing.Dict[str, typing.Dict[str, int]]"
      ]
     },
     "execution_count": 7,
     "metadata": {},
     "output_type": "execute_result"
    }
   ],
   "source": [
    "Dict[str,Dict[str,int]]"
   ]
  },
  {
   "cell_type": "markdown",
   "metadata": {},
   "source": [
    "즉, negative conversion은 저 `convert_first_unitnode`를 더 이상 convert할 필요가 없을 때까지 계속 사용함으로써 완료된다.\n",
    "\n",
    "물론 그렇게 conversion이 완료된 annotation의 tokenized된 string을 복원해줌으로써, 전체적인 과정이 비로서 완료된다."
   ]
  }
 ],
 "metadata": {
  "kernelspec": {
   "display_name": "py-ts-types-beta",
   "language": "python",
   "name": "python3"
  },
  "language_info": {
   "codemirror_mode": {
    "name": "ipython",
    "version": 3
   },
   "file_extension": ".py",
   "mimetype": "text/x-python",
   "name": "python",
   "nbconvert_exporter": "python",
   "pygments_lexer": "ipython3",
   "version": "3.12.7"
  }
 },
 "nbformat": 4,
 "nbformat_minor": 2
}
