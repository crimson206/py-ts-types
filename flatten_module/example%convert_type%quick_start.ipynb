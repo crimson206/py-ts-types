{
 "cells": [
  {
   "cell_type": "code",
   "execution_count": 80,
   "metadata": {},
   "outputs": [],
   "source": [
    "from typing import Union, List, Dict, Tuple, Literal\n",
    "from crimson.py_ts_types_beta.convert_typing.positive import SubscribeNode\n",
    "from crimson.py_ts_types_beta.convert_typing.negative import convert_final\n",
    "from crimson.py_ts_types_beta.convert_typing import convert_py_to_ts, convert_ts_to_py\n",
    "import inspect\n"
   ]
  },
  {
   "cell_type": "markdown",
   "metadata": {},
   "source": [
    "## py - ts mapping\n",
    "\n",
    "The python types are converted as below:\n",
    "\n",
    "``` ts\n",
    "\n",
    "export type str = string\n",
    "export type int = number\n",
    "export type float = number\n",
    "export type bool = boolean\n",
    "export type None = null | undefined\n",
    "\n",
    "export type List<T> = Array<T>\n",
    "export type Dict<K extends keyof any = string, V = any> = {\n",
    "    [key in K extends string | number ? K : string]: V;\n",
    "}\n",
    "export type Tuple<T extends any[]> = T\n",
    "export type Union<T> = T\n",
    "export type Literal<T extends string | number | boolean> = T\n",
    "export type Optional<T> = T | undefined\n",
    "export type Any = any\n",
    "export type Callable<T extends any[], R> = (...args: T) => R\n",
    "\n",
    "```\n"
   ]
  },
  {
   "cell_type": "markdown",
   "metadata": {},
   "source": [
    "## Convert Positive\n",
    "\n",
    "First, we will convert a python type into the typescrit type.\n",
    "\n",
    "In the example type, I added some strings including `>`, `[`, `]`.\n",
    "\n",
    "They are important brackets in python and typescript syntaxes.\n",
    "\n",
    "They won't cause any problem.\n"
   ]
  },
  {
   "cell_type": "code",
   "execution_count": 81,
   "metadata": {},
   "outputs": [
    {
     "data": {
      "text/plain": [
       "typing.Union[int, typing.List[int], typing.Tuple[typing.Dict[str, typing.Dict[str, int]], typing.Literal['[bye>', 2, '[hi]']]]"
      ]
     },
     "execution_count": 81,
     "metadata": {},
     "output_type": "execute_result"
    }
   ],
   "source": [
    "Union[int,List[int],Union[Tuple[Dict[str,Dict[str,int]],Literal['[bye>',2,'[hi]']],int]]"
   ]
  },
  {
   "cell_type": "markdown",
   "metadata": {},
   "source": [
    "For the purpose, we use `anytree` node.\n",
    "\n",
    "Construct a root node, and use `generation_children` and `to_string`,\n",
    "\n",
    "and we get the converted type."
   ]
  },
  {
   "cell_type": "code",
   "execution_count": 82,
   "metadata": {},
   "outputs": [
    {
     "data": {
      "text/plain": [
       "\"Union<int|List<int>|Union<Tuple<[Dict<str,Dict<str,int>>,Literal<'[bye>'|2|'[hi]'>]>|int>>\""
      ]
     },
     "execution_count": 82,
     "metadata": {},
     "output_type": "execute_result"
    }
   ],
   "source": [
    "py_annotation = \"\"\"Union[int,List[int],Union[Tuple[Dict[str,Dict[str,int]],Literal['[bye>',2,'[hi]']],int]]\"\"\"\n",
    "\n",
    "root = SubscribeNode(converted=[py_annotation])\n",
    "root.generate_children()\n",
    "\n",
    "ts_annotation = root.to_string()\n",
    "ts_annotation"
   ]
  },
  {
   "cell_type": "markdown",
   "metadata": {},
   "source": [
    "``` ts\n",
    "Union<int|List<int>|Union<Tuple<[Dict<str,Dict<str,int>>,Literal<'[bye>'|2|'[hi]'>]>|int>>\"\n",
    "```"
   ]
  },
  {
   "cell_type": "markdown",
   "metadata": {},
   "source": [
    "We can use a shortcut called 'convert_py_to_ts' as well.\n"
   ]
  },
  {
   "cell_type": "code",
   "execution_count": 83,
   "metadata": {},
   "outputs": [
    {
     "data": {
      "text/plain": [
       "\"Union<int|List<int>|Union<Tuple<[Dict<str,Dict<str,int>>,Literal<'[bye>'|2|'[hi]'>]>|int>>\""
      ]
     },
     "execution_count": 83,
     "metadata": {},
     "output_type": "execute_result"
    }
   ],
   "source": [
    "convert_py_to_ts(py_annotation)"
   ]
  },
  {
   "cell_type": "markdown",
   "metadata": {},
   "source": [
    "## Convert Negative\n",
    "\n",
    "I don't know a reliable typescript parser `python` library.\n",
    "\n",
    "Therefore, I implemented the negative conversion without a parser.\n",
    "\n",
    "The `convert_final` function integrates helper functions to convert the typescript type into python type back."
   ]
  },
  {
   "cell_type": "code",
   "execution_count": 84,
   "metadata": {},
   "outputs": [
    {
     "name": "stdout",
     "output_type": "stream",
     "text": [
      "def convert_final(annotation_string: str) -> str:\n",
      "\n",
      "    string_free_string, extracted_strings, used_quotes = tokenize_and_extract_strings(\n",
      "        input_string=annotation_string,\n",
      "        quotes=[\"'\", \"'''\", '\"', '\"\"\"'],\n",
      "        string_token=\"text\",\n",
      "    )\n",
      "\n",
      "    string_free_string = string_free_string.replace(\" \", \"\")\n",
      "\n",
      "    converted = convert(tokenized_annotation_string=string_free_string)\n",
      "\n",
      "    for i, extracted_string in enumerate(extracted_strings):\n",
      "        token = f\"text{i}\"\n",
      "        quote = used_quotes[i]\n",
      "        converted = converted.replace(token, f\"{quote}{extracted_string}{quote}\")\n",
      "\n",
      "    return converted\n",
      "\n"
     ]
    }
   ],
   "source": [
    "print(inspect.getsource(convert_final))"
   ]
  },
  {
   "cell_type": "markdown",
   "metadata": {},
   "source": [
    "`convert_py_to_ts` is just a renamed `convert_final`.\n",
    "\n",
    "You can use one of them."
   ]
  },
  {
   "cell_type": "code",
   "execution_count": 85,
   "metadata": {},
   "outputs": [
    {
     "data": {
      "text/plain": [
       "\"Union[int,List[int],Union[Tuple[Dict[str,Dict[str,int]],Literal['[bye>',2,'[hi]']],int]]\""
      ]
     },
     "execution_count": 85,
     "metadata": {},
     "output_type": "execute_result"
    }
   ],
   "source": [
    "convert_ts_to_py(ts_annotation)"
   ]
  },
  {
   "cell_type": "code",
   "execution_count": 86,
   "metadata": {},
   "outputs": [
    {
     "data": {
      "text/plain": [
       "\"Union[int,List[int],Union[Tuple[Dict[str,Dict[str,int]],Literal['[bye>',2,'[hi]']],int]]\""
      ]
     },
     "execution_count": 86,
     "metadata": {},
     "output_type": "execute_result"
    }
   ],
   "source": [
    "py_annotation_recovered = convert_final(ts_annotation)\n",
    "py_annotation_recovered"
   ]
  },
  {
   "cell_type": "markdown",
   "metadata": {},
   "source": [
    "Check if the original py_annotation was recovered."
   ]
  },
  {
   "cell_type": "code",
   "execution_count": 87,
   "metadata": {},
   "outputs": [
    {
     "data": {
      "text/plain": [
       "True"
      ]
     },
     "execution_count": 87,
     "metadata": {},
     "output_type": "execute_result"
    }
   ],
   "source": [
    "py_annotation == py_annotation_recovered"
   ]
  }
 ],
 "metadata": {
  "kernelspec": {
   "display_name": "py-ts-types-beta",
   "language": "python",
   "name": "python3"
  },
  "language_info": {
   "codemirror_mode": {
    "name": "ipython",
    "version": 3
   },
   "file_extension": ".py",
   "mimetype": "text/x-python",
   "name": "python",
   "nbconvert_exporter": "python",
   "pygments_lexer": "ipython3",
   "version": "3.12.7"
  }
 },
 "nbformat": 4,
 "nbformat_minor": 2
}
