{
 "cells": [
  {
   "cell_type": "markdown",
   "metadata": {},
   "source": [
    "## Positive Conversion\n",
    "\n",
    "For positive convertion, or python to typescript conversion, <br?>\n",
    "we mainly need to convert the types used with `[` and `]` brackets.\n",
    "\n",
    "If we analyze them using ast, they are called `ast.Subscribe`.\n",
    "\n",
    "If you are interested in the details, you can learn `ast` by yourself."
   ]
  },
  {
   "cell_type": "code",
   "execution_count": 43,
   "metadata": {},
   "outputs": [],
   "source": [
    "from typing import Union, List, Dict, Tuple, Literal\n",
    "from crimson.ast_dev_tool import collect_nodes\n",
    "from crimson.py_ts_types_beta.convert_typing.positive import SubscribeNode, convert_unit"
   ]
  },
  {
   "cell_type": "code",
   "execution_count": 44,
   "metadata": {},
   "outputs": [
    {
     "data": {
      "text/plain": [
       "typing.Union[int, typing.List[int], typing.Tuple[typing.Dict[str, typing.Dict[str, int]], typing.Literal['[bye>', 2, '[hi]']]]"
      ]
     },
     "execution_count": 44,
     "metadata": {},
     "output_type": "execute_result"
    }
   ],
   "source": [
    "Union[int,List[int],Union[Tuple[Dict[str,Dict[str,int]],Literal['[bye>',2,'[hi]']],int]]"
   ]
  },
  {
   "cell_type": "code",
   "execution_count": 45,
   "metadata": {},
   "outputs": [],
   "source": [
    "py_annotation = \"Union[int,List[int],Union[Tuple[Dict[str,Dict[str,int]],Literal['[bye>',2,'[hi]']],int]]\""
   ]
  },
  {
   "cell_type": "markdown",
   "metadata": {},
   "source": [
    "While the node parsed from, `Dict[str,int]`, has the `elts` field, the node from `List[str]` doesn't.\n",
    "\n",
    "They are converted with different logics."
   ]
  },
  {
   "cell_type": "markdown",
   "metadata": {},
   "source": [
    "The `convert_unit` function converts the first `ast.Subscribe` node."
   ]
  },
  {
   "cell_type": "code",
   "execution_count": 46,
   "metadata": {},
   "outputs": [
    {
     "data": {
      "text/plain": [
       "['Union<',\n",
       " 'int',\n",
       " '|',\n",
       " 'List[int]',\n",
       " '|',\n",
       " \"Union[Tuple[Dict[str, Dict[str, int]], Literal['[bye>', 2, '[hi]']], int]\",\n",
       " '>']"
      ]
     },
     "execution_count": 46,
     "metadata": {},
     "output_type": "execute_result"
    }
   ],
   "source": [
    "converted = convert_unit(py_annotation)\n",
    "converted"
   ]
  },
  {
   "cell_type": "markdown",
   "metadata": {},
   "source": [
    "After conversion, we still have more elements to convert.\n",
    "\n",
    "``` python\n",
    "[\n",
    "\t# 'Union<',\n",
    "\t# 'int',\n",
    "\t# '|',\n",
    "\t'List[int]',\n",
    "\t# '|',\n",
    "\t\"Union[Tuple[Dict[str, Dict[str, int]], Literal['[bye>', 2, '[hi]']], int]\",\n",
    "\t# '>'\n",
    "]\n",
    " ```\n",
    "\n",
    "The `converted` variable is stored in a child node, and the parent runs `children`s `generate_children` function. During the process, all the elements are converted till there is no elements to convert.\n",
    "\n"
   ]
  },
  {
   "cell_type": "markdown",
   "metadata": {},
   "source": [
    "If we use the `to_string` function of a node, it generates the converted annotation by joining `converted`, but elements, identified as `ast.Subscribe`, are replaced by `children`s `to_string`.\n",
    "\n"
   ]
  },
  {
   "cell_type": "code",
   "execution_count": 47,
   "metadata": {},
   "outputs": [],
   "source": [
    "root = SubscribeNode(converted=[py_annotation])\n",
    "root.generate_children()\n"
   ]
  },
  {
   "cell_type": "code",
   "execution_count": 48,
   "metadata": {},
   "outputs": [],
   "source": [
    "list_node = root.children[0].children[0]\n",
    "union_node = root.children[0].children[1]"
   ]
  },
  {
   "cell_type": "code",
   "execution_count": 49,
   "metadata": {},
   "outputs": [
    {
     "data": {
      "text/plain": [
       "'List<int>'"
      ]
     },
     "execution_count": 49,
     "metadata": {},
     "output_type": "execute_result"
    }
   ],
   "source": [
    "list_node.to_string()"
   ]
  },
  {
   "cell_type": "code",
   "execution_count": 50,
   "metadata": {},
   "outputs": [
    {
     "data": {
      "text/plain": [
       "\"Union<Tuple<[Dict<str,Dict<str,int>>,Literal<'[bye>'|2|'[hi]'>]>|int>\""
      ]
     },
     "execution_count": 50,
     "metadata": {},
     "output_type": "execute_result"
    }
   ],
   "source": [
    "union_node.to_string()"
   ]
  },
  {
   "cell_type": "code",
   "execution_count": 51,
   "metadata": {},
   "outputs": [
    {
     "data": {
      "text/plain": [
       "\"Union<int|List<int>|Union<Tuple<[Dict<str,Dict<str,int>>,Literal<'[bye>'|2|'[hi]'>]>|int>>\""
      ]
     },
     "execution_count": 51,
     "metadata": {},
     "output_type": "execute_result"
    }
   ],
   "source": [
    "root.to_string()"
   ]
  }
 ],
 "metadata": {
  "kernelspec": {
   "display_name": "py-ts-types-beta",
   "language": "python",
   "name": "python3"
  },
  "language_info": {
   "codemirror_mode": {
    "name": "ipython",
    "version": 3
   },
   "file_extension": ".py",
   "mimetype": "text/x-python",
   "name": "python",
   "nbconvert_exporter": "python",
   "pygments_lexer": "ipython3",
   "version": "3.12.7"
  }
 },
 "nbformat": 4,
 "nbformat_minor": 2
}
